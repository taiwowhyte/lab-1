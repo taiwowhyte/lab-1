{
 "cells": [
  {
   "cell_type": "code",
   "execution_count": null,
   "metadata": {},
   "outputs": [],
   "source": [
    "# https://docs.python.org/3/library/csv.html\n",
    "import csv\n",
    "add_transaction()\n",
    "current_task = \"\"\n",
    "while current_task != \"q\":\n",
    "    print(\"Press [a] to add a transaction, [b] to view the account balance, [v] to view all transactions, or [q] to quit.\")\n",
    "    current_task = input(\"What would you like to do?\")\n",
    "    # Use a conditional to respond to what the user has chosen by executing one of the functions defined below"
   ]
  },
  {
   "cell_type": "code",
   "execution_count": 28,
   "metadata": {},
   "outputs": [],
   "source": [
    "def view_all_transactions():\n",
    "    import csv\n",
    "    with open('transactions.csv', newline = '') as csvfile:\n",
    "        view_transactions_reader = csv.reader(csvfile)\n",
    "        for row in view_transactions_reader:\n",
    "            print(f'title: {row[0]}, transaction type:{row[1]},Total amount of Budget item:{row[2]}, date:{row[3]}')\n",
    "    # Access the transactions.csv file\n",
    "    # Loop through each csv entry and print relevant details"
   ]
  },
  {
   "cell_type": "code",
   "execution_count": 20,
   "metadata": {},
   "outputs": [],
   "source": [
    "def view_account_balance():\n",
    "    import csv\n",
    "    with open('transactions.csv', newline = '') as csvfile:\n",
    "        view_balance_reader = csv.reader(csvfile)\n",
    "        net_balance = 0\n",
    "        for row in view_balance_reader:\n",
    "            if row[1] == 'Income':\n",
    "                net_balance += int(row[2])\n",
    "            if row[1] == 'Expense':\n",
    "                net_balance -= int(row[2])\n",
    "    # Print the value of the account balance\n",
    "    print(net_balance)"
   ]
  },
  {
   "cell_type": "code",
   "execution_count": null,
   "metadata": {},
   "outputs": [],
   "source": [
    "def add_transaction():\n",
    "    # Request user input for each of the transaction properties:\n",
    "    title = ''\n",
    "    while title == '':\n",
    "        title = input('Describe budget item') \n",
    "    \n",
    "    IorE = \"\"  \n",
    "    while IorE != 'Income' and IorE != 'Expense':\n",
    "        IorE = input('Income or Expense')\n",
    "    total_amount = ''\n",
    "    while total_amount.isnumeric() == False:           \n",
    "        total_amount = input('Total amount of Budget item')\n",
    "    \n",
    "    date = \"\"\n",
    "    from datetime import datetime\n",
    "    while date == \"\":\n",
    "        date = input('Date of transaction in DD-MM-YYYY')\n",
    "        try:\n",
    "            datetime.strptime(date, '%d-%m-%Y')\n",
    "        except ValueError:\n",
    "            print('\"Input date in DD-MM-YYYY format')\n",
    "            date = \"\"\n",
    "    # Use a similar loop to the main loop to ensure valid input\n",
    "    # Access the transactions.csv file and write a new row to it\n",
    "    import csv\n",
    "    with open('transactions.csv', 'a', newline='') as csvfile:\n",
    "        budget_transactions_writer = csv.writer(csvfile)\n",
    "        budget_transactions_writer.writerow([title, IorE, total_amount, date])\n",
    "    \n",
    "    \n",
    "add_transaction()"
   ]
  },
  {
   "cell_type": "code",
   "execution_count": null,
   "metadata": {},
   "outputs": [],
   "source": [
    "# https://docs.python.org/3/library/csv.html\n",
    "import csv\n",
    "current_task = \"\"\n",
    "while current_task != \"q\":\n",
    "    print(\"Press [a] to add a transaction, [b] to view the account balance, [v] to view all transactions, or [q] to quit.\")\n",
    "    current_task = input(\"What would you like to do?\")\n",
    "    if current_task == 'a':\n",
    "        add_transaction()\n",
    "    if current_task == 'b':\n",
    "        view_account_balance()\n",
    "    if current_task == 'v':\n",
    "        view_all_transactions()\n",
    "    # Use a conditional to respond to what the user has chosen by executing one of the functions defined below"
   ]
  },
  {
   "cell_type": "code",
   "execution_count": 30,
   "metadata": {},
   "outputs": [
    {
     "name": "stdout",
     "output_type": "stream",
     "text": [
      "True\n",
      "False\n"
     ]
    }
   ],
   "source": [
    "text1 = '123'\n",
    "text2 = 'abc'\n",
    "\n",
    "print(text1.isnumeric())\n",
    "print(text2.isnumeric())"
   ]
  },
  {
   "cell_type": "code",
   "execution_count": null,
   "metadata": {},
   "outputs": [],
   "source": []
  }
 ],
 "metadata": {
  "kernelspec": {
   "display_name": "Python 3",
   "language": "python",
   "name": "python3"
  },
  "language_info": {
   "codemirror_mode": {
    "name": "ipython",
    "version": 3
   },
   "file_extension": ".py",
   "mimetype": "text/x-python",
   "name": "python",
   "nbconvert_exporter": "python",
   "pygments_lexer": "ipython3",
   "version": "3.8.5"
  }
 },
 "nbformat": 4,
 "nbformat_minor": 4
}
